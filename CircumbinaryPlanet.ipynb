{
 "cells": [
  {
   "cell_type": "markdown",
   "metadata": {},
   "source": [
    "# Circumbinary Planet"
   ]
  },
  {
   "cell_type": "code",
   "execution_count": 1,
   "metadata": {},
   "outputs": [],
   "source": [
    "import numpy as np\n",
    "import matplotlib.pyplot as plt\n",
    "%matplotlib inline\n",
    "from scipy import integrate\n",
    "from astropy import constants as const\n",
    "from astropy import units as u"
   ]
  },
  {
   "cell_type": "code",
   "execution_count": 2,
   "metadata": {},
   "outputs": [],
   "source": [
    "plt.rcParams.update({'font.size': 14, 'text.usetex': True})"
   ]
  },
  {
   "cell_type": "code",
   "execution_count": 7,
   "metadata": {},
   "outputs": [],
   "source": [
    "#vector input has initial conditions for 3 bodies\n",
    "\n",
    "def threebodyfunc(vec, t):\n",
    "    #assigning the initial conditions to vector elements\n",
    "    x1, y1, z1 = vec[0], vec[1], vec[2]\n",
    "    vx1, vy1, vz1 = vec[3], vec[4], vec[5]\n",
    "    \n",
    "    x2, y2, z2 = vec[6], vec[7], vec[8]\n",
    "    vx2, vy2, vz2 = vec[9], vec[10], vec[11]\n",
    "    \n",
    "    x3, y3, z3 = vec[12], vec[13], vec[14]\n",
    "    vx3, vy3, vz3 = vec[15], vec[16], vec[17]\n",
    "    \n",
    "    #separation vectors\n",
    "    dx12, dy12, dz12 = x2-x1, y2-y1, z2-z1\n",
    "    dx13, dy13, dz13 = x3-x1, y3-y1, z3-z1\n",
    "    dx23, dy23, dz23 = x3-x2, y3-y2, z3-z2\n",
    "\n",
    "    d12 = np.sqrt(dx12**2+dy12**2+dz12**2)\n",
    "    d13 = np.sqrt(dx13**2+dy13**2+dz13**2)\n",
    "    d23 = np.sqrt(dx23**2+dy23**2+dz23**2)\n",
    "    \n",
    "    #acceleration calculations\n",
    "#     Gmr3_1 = G*m2/d12**3 + G*m3/d13**3       #acceleration on body 1 due to bodies 2 and 3\n",
    "#     Gmr3_2 = G*m1/d12**3 + G*m3/d23**3       #acceleration on body 2 due to bodies 1 and 3\n",
    "#     Gmr3_3 = G*m1/d13**3 + G*m2/d23**3       #acceleration on body 3 due to bodies 1 and 2\n",
    "    ax1 = (G*m2/d12**3)*dx12 + (G*m3/d13**3)*dx13\n",
    "    ay1 = (G*m2/d12**3)*dy12 + (G*m3/d13**3)*dy13\n",
    "    az1 = (G*m2/d12**3)*dz12 + (G*m3/d13**3)*dz13\n",
    "    ax2 = -(G*m1/d12**3)*dx12 + (G*m3/d23**3)*dx23\n",
    "    ay2 = -(G*m1/d12**3)*dy12 + (G*m3/d23**3)*dy23\n",
    "    az2 = -(G*m1/d12**3)*dz12 + (G*m3/d23**3)*dz23\n",
    "    ax3 = -(G*m1/d13**3)*dx13 - (G*m3/d23**3)*dx23\n",
    "    ay3 = -(G*m1/d13**3)*dy13 - (G*m3/d23**3)*dy23\n",
    "    az3 = -(G*m1/d13**3)*dz13 - (G*m3/d23**3)*dz23\n",
    "    \n",
    "    #idk what to do for these\n",
    "    \n",
    "    #vector with derivatives of initial vector giving velocity and acceleration\n",
    "    dvec = np.zeros(len(vec))\n",
    "    dvec[0], dvec[1], dvec[2] = vx1, vy1, vz1\n",
    "    dvec[3], dvec[4], dvec[5] = ax1, ay1, az1\n",
    "    \n",
    "    dvec[6], dvec[7], dvec[8] = vx2, vy2, vz2\n",
    "    dvec[9], dvec[10], dvec[11] = ax2, ay2, az2\n",
    "    \n",
    "    dvec[12], dvec[13], dvec[14] = vx3, vy3, vz3\n",
    "    dvec[15], dvec[16], dvec[17] = ax3, ay3, az3\n",
    "    \n",
    "    return dvec"
   ]
  },
  {
   "cell_type": "code",
   "execution_count": null,
   "metadata": {},
   "outputs": [],
   "source": [
    "m1 = (1 * u.Msun).decompose().value\n",
    "m2 = (0.5 * u.Msun).decompose().value"
   ]
  }
 ],
 "metadata": {
  "kernelspec": {
   "display_name": "Python 3",
   "language": "python",
   "name": "python3"
  },
  "language_info": {
   "codemirror_mode": {
    "name": "ipython",
    "version": 3
   },
   "file_extension": ".py",
   "mimetype": "text/x-python",
   "name": "python",
   "nbconvert_exporter": "python",
   "pygments_lexer": "ipython3",
   "version": "3.8.3"
  }
 },
 "nbformat": 4,
 "nbformat_minor": 4
}
